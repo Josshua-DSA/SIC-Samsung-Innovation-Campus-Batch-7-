{
  "nbformat": 4,
  "nbformat_minor": 0,
  "metadata": {
    "colab": {
      "provenance": [],
      "authorship_tag": "ABX9TyNjxAmutPl7s+U49f5kvDNd",
      "include_colab_link": true
    },
    "kernelspec": {
      "name": "python3",
      "display_name": "Python 3"
    },
    "language_info": {
      "name": "python"
    }
  },
  "cells": [
    {
      "cell_type": "markdown",
      "metadata": {
        "id": "view-in-github",
        "colab_type": "text"
      },
      "source": [
        "<a href=\"https://colab.research.google.com/github/Josshua-DSA/SIC-Samsung-Innovation-Campus-Batch-7-/blob/main/Topic%3A%20Variables%20and%20Data%20Types.ipynb\" target=\"_parent\"><img src=\"https://colab.research.google.com/assets/colab-badge.svg\" alt=\"Open In Colab\"/></a>"
      ]
    },
    {
      "cell_type": "markdown",
      "source": [
        "Tugas 1 : Menyimpan dan Menampilkan Data"
      ],
      "metadata": {
        "id": "aMO56JKpweq0"
      }
    },
    {
      "cell_type": "code",
      "source": [
        "produk_1 = \"Kopi Pagi\"\n",
        "harga_produk_1 = 18000.5\n",
        "produk_2 = \"Roti Cokelat\"\n",
        "harga_produk_2 = 10000\n",
        "status_ketersediaan_roti = True"
      ],
      "metadata": {
        "id": "gQLlaHm9mfpQ"
      },
      "execution_count": 1,
      "outputs": []
    },
    {
      "cell_type": "code",
      "source": [
        "print(f\"Nama Produk 1  : {produk_1}\")\n",
        "print(f\"Harga Produk 1 : {harga_produk_1}\")\n",
        "print(f\"Nama Produk 2  : {produk_2}\")\n",
        "print(f\"Harga Produk 2 : {harga_produk_2}\")\n",
        "print(f\"Status Kesediaan : {status_ketersediaan_roti}\")"
      ],
      "metadata": {
        "colab": {
          "base_uri": "https://localhost:8080/"
        },
        "id": "lxqnLkz1w-xW",
        "outputId": "d8915104-d957-424f-bddc-d9630801351b"
      },
      "execution_count": 4,
      "outputs": [
        {
          "output_type": "stream",
          "name": "stdout",
          "text": [
            "Nama Produk 1  : Kopi Pagi\n",
            "Harga Produk 1 : 18000.5\n",
            "Nama Produk 2  : Roti Cokelat\n",
            "Harga Produk 2 : 10000\n",
            "Status Kesediaan : True\n"
          ]
        }
      ]
    },
    {
      "cell_type": "markdown",
      "source": [
        "Tugas 2: Konversi Tipe Data dan Input Pengguna"
      ],
      "metadata": {
        "id": "VWO98Pk4yY9W"
      }
    },
    {
      "cell_type": "code",
      "execution_count": 14,
      "metadata": {
        "colab": {
          "base_uri": "https://localhost:8080/"
        },
        "id": "q-OW3QlDe3Xp",
        "outputId": "002799d8-5d61-4904-d75e-11f1de9399b2"
      },
      "outputs": [
        {
          "name": "stdout",
          "output_type": "stream",
          "text": [
            "Masukkan jumlah kopi yang ingin Anda beli: 2\n"
          ]
        }
      ],
      "source": [
        "jumlah_kopi_str = input(\"Masukkan jumlah kopi yang ingin Anda beli: \")"
      ]
    },
    {
      "cell_type": "code",
      "source": [
        "jumlah_roti_str = input(\"Masukkan jumlah roti yang ingin Anda beli: \")"
      ],
      "metadata": {
        "colab": {
          "base_uri": "https://localhost:8080/"
        },
        "id": "rTfip0c3y59e",
        "outputId": "f2d25c25-0dca-4804-dfc9-ae5d5d10dcc1"
      },
      "execution_count": 15,
      "outputs": [
        {
          "name": "stdout",
          "output_type": "stream",
          "text": [
            "Masukkan jumlah roti yang ingin Anda beli: 3\n"
          ]
        }
      ]
    },
    {
      "cell_type": "code",
      "source": [
        "print(f\"Tipe data awal jumlah kopi:{(type(jumlah_kopi_str))}\")\n",
        "print(f\"Tipe data awal jumlah roti:{(type(jumlah_roti_str))}\")"
      ],
      "metadata": {
        "colab": {
          "base_uri": "https://localhost:8080/"
        },
        "id": "UeSWyUxbfCsY",
        "outputId": "129a3d37-f38b-41e6-c152-c738b11f21fd"
      },
      "execution_count": 16,
      "outputs": [
        {
          "output_type": "stream",
          "name": "stdout",
          "text": [
            "Tipe data awal jumlah kopi:<class 'str'>\n",
            "Tipe data awal jumlah roti:<class 'str'>\n"
          ]
        }
      ]
    },
    {
      "cell_type": "code",
      "source": [
        "jumlah_kopi = int(jumlah_kopi_str)\n",
        "jumlah_roti = int(jumlah_roti_str)"
      ],
      "metadata": {
        "id": "4Wf6WZwQzolE"
      },
      "execution_count": 18,
      "outputs": []
    },
    {
      "cell_type": "code",
      "source": [
        "print(f\"Tipe data setelah konversi: {type(jumlah_kopi)}\")\n",
        "print(f\"Tipe data setelah konversi: {type(jumlah_roti)}\")"
      ],
      "metadata": {
        "id": "NnJcw3t8lXtE",
        "colab": {
          "base_uri": "https://localhost:8080/"
        },
        "outputId": "b0286a16-9050-4210-dffc-62e6be7f7742"
      },
      "execution_count": 19,
      "outputs": [
        {
          "output_type": "stream",
          "name": "stdout",
          "text": [
            "Tipe data setelah konversi: <class 'int'>\n",
            "Tipe data setelah konversi: <class 'int'>\n"
          ]
        }
      ]
    },
    {
      "cell_type": "markdown",
      "source": [
        "Tugas 3: Operasi pada Angka"
      ],
      "metadata": {
        "id": "dFHDlrD00tFr"
      }
    },
    {
      "cell_type": "code",
      "source": [
        "total_harga_kopi = jumlah_kopi * harga_produk_1\n",
        "total_harga_roti = jumlah_roti * harga_produk_2\n",
        "total_belanja_keseluruhan = total_harga_kopi + total_harga_roti\n",
        "uang_bayar = 50000\n",
        "kembalian = uang_bayar - total_belanja_keseluruhan"
      ],
      "metadata": {
        "id": "EUlwECz00zMJ"
      },
      "execution_count": 20,
      "outputs": []
    },
    {
      "cell_type": "code",
      "source": [
        "print(f\"Total Harga Kopi         : {total_harga_kopi}\")\n",
        "print(f\"Total Harga Roti         : {total_harga_roti}\")\n",
        "print(f\"Total Belanja Keseluruhan: {total_belanja_keseluruhan}\")\n",
        "print(f\"Uang yang dibayarkan     : {uang_bayar}\")\n",
        "print(f\"Kembalian                : {kembalian}\")"
      ],
      "metadata": {
        "colab": {
          "base_uri": "https://localhost:8080/"
        },
        "id": "y-lvFgJU18Go",
        "outputId": "7904d06b-f4f4-4f97-f10e-18bd73ff6d7a"
      },
      "execution_count": 21,
      "outputs": [
        {
          "output_type": "stream",
          "name": "stdout",
          "text": [
            "Total Harga Kopi         : 36001.0\n",
            "Total Harga Roti         : 30000\n",
            "Total Belanja Keseluruhan: 66001.0\n",
            "Uang yang dibayarkan     : 50000\n",
            "Kembalian                : -16001.0\n"
          ]
        }
      ]
    },
    {
      "cell_type": "markdown",
      "source": [
        "Tugas 4: Operasi pada String"
      ],
      "metadata": {
        "id": "Usyz_vd32aHF"
      }
    },
    {
      "cell_type": "code",
      "source": [
        "nama_pengguna = input(\"Masukkan Nama: \")"
      ],
      "metadata": {
        "colab": {
          "base_uri": "https://localhost:8080/"
        },
        "id": "9YfQG7zD2fB0",
        "outputId": "6994a985-3267-4ccf-8d42-92ccd0b1673b"
      },
      "execution_count": 24,
      "outputs": [
        {
          "output_type": "stream",
          "name": "stdout",
          "text": [
            "Masukkan Nama: Alex\n",
            "Terima kasih Alex telah berbelanja di Coffee Shop Bahagia!\n"
          ]
        }
      ]
    },
    {
      "cell_type": "code",
      "source": [
        "print('*'*40)\n",
        "pesan_terimakasih = print(f\"Terima kasih {nama_pengguna} telah berbelanja di Coffee Shop Bahagia!\")\n",
        "print('*'*40)\n",
        "print(f\"Total harga Kopi Pagi adalah {total_harga_kopi}\")"
      ],
      "metadata": {
        "colab": {
          "base_uri": "https://localhost:8080/"
        },
        "id": "x8EIXAPw3xEh",
        "outputId": "698c5d87-f9ad-4b4a-f3d4-f6a258032344"
      },
      "execution_count": 29,
      "outputs": [
        {
          "output_type": "stream",
          "name": "stdout",
          "text": [
            "****************************************\n",
            "Terima kasih Alex telah berbelanja di Coffee Shop Bahagia!\n",
            "****************************************\n",
            "Total harga Kopi Pagi adalah 36001.0\n"
          ]
        }
      ]
    }
  ]
}