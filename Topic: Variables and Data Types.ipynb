{
  "nbformat": 4,
  "nbformat_minor": 0,
  "metadata": {
    "colab": {
      "provenance": [],
      "authorship_tag": "ABX9TyObFqTW5EsWY8bz5h97aG/E",
      "include_colab_link": true
    },
    "kernelspec": {
      "name": "python3",
      "display_name": "Python 3"
    },
    "language_info": {
      "name": "python"
    }
  },
  "cells": [
    {
      "cell_type": "markdown",
      "metadata": {
        "id": "view-in-github",
        "colab_type": "text"
      },
      "source": [
        "<a href=\"https://colab.research.google.com/github/Josshua-DSA/SIC-Samsung-Innovation-Campus-Batch-7-/blob/main/Topic%3A%20Variables%20and%20Data%20Types.ipynb\" target=\"_parent\"><img src=\"https://colab.research.google.com/assets/colab-badge.svg\" alt=\"Open In Colab\"/></a>"
      ]
    },
    {
      "cell_type": "markdown",
      "source": [
        "Tugas 1 : Menyimpan dan Menampilkan Data"
      ],
      "metadata": {
        "id": "aMO56JKpweq0"
      }
    },
    {
      "cell_type": "code",
      "source": [
        "produk_1 = \"Kopi Pagi\"\n",
        "harga_produk_1 = 18000.5\n",
        "produk_2 = \"Roti Cokelat\"\n",
        "harga_produk_2 = 10000\n",
        "status_ketersediaan_roti = True"
      ],
      "metadata": {
        "id": "gQLlaHm9mfpQ"
      },
      "execution_count": 30,
      "outputs": []
    },
    {
      "cell_type": "code",
      "source": [
        "print(f\"Nama Produk 1  : {produk_1}\")\n",
        "print(f\"Harga Produk 1 : {harga_produk_1}\")\n",
        "print(f\"Nama Produk 2  : {produk_2}\")\n",
        "print(f\"Harga Produk 2 : {harga_produk_2}\")\n",
        "print(f\"Status Kesediaan : {status_ketersediaan_roti}\")"
      ],
      "metadata": {
        "colab": {
          "base_uri": "https://localhost:8080/"
        },
        "id": "lxqnLkz1w-xW",
        "outputId": "d230f766-6385-4759-84ed-67add3eba468"
      },
      "execution_count": 31,
      "outputs": [
        {
          "output_type": "stream",
          "name": "stdout",
          "text": [
            "Nama Produk 1  : Kopi Pagi\n",
            "Harga Produk 1 : 18000.5\n",
            "Nama Produk 2  : Roti Cokelat\n",
            "Harga Produk 2 : 10000\n",
            "Status Kesediaan : True\n"
          ]
        }
      ]
    },
    {
      "cell_type": "markdown",
      "source": [
        "Tugas 2: Konversi Tipe Data dan Input Pengguna"
      ],
      "metadata": {
        "id": "VWO98Pk4yY9W"
      }
    },
    {
      "cell_type": "code",
      "execution_count": 32,
      "metadata": {
        "colab": {
          "base_uri": "https://localhost:8080/"
        },
        "id": "q-OW3QlDe3Xp",
        "outputId": "07b4adf4-b0bd-47ec-9b58-34283c1e21cd"
      },
      "outputs": [
        {
          "name": "stdout",
          "output_type": "stream",
          "text": [
            "Masukkan jumlah kopi yang ingin Anda beli: 2\n"
          ]
        }
      ],
      "source": [
        "jumlah_kopi_str = input(\"Masukkan jumlah kopi yang ingin Anda beli: \")"
      ]
    },
    {
      "cell_type": "code",
      "source": [
        "jumlah_roti_str = input(\"Masukkan jumlah roti yang ingin Anda beli: \")"
      ],
      "metadata": {
        "colab": {
          "base_uri": "https://localhost:8080/"
        },
        "id": "rTfip0c3y59e",
        "outputId": "f0cafadc-6b37-4444-c69d-d5815a58924a"
      },
      "execution_count": 33,
      "outputs": [
        {
          "name": "stdout",
          "output_type": "stream",
          "text": [
            "Masukkan jumlah roti yang ingin Anda beli: 3\n"
          ]
        }
      ]
    },
    {
      "cell_type": "code",
      "source": [
        "print(f\"Tipe data awal jumlah kopi:{(type(jumlah_kopi_str))}\")\n",
        "print(f\"Tipe data awal jumlah roti:{(type(jumlah_roti_str))}\")"
      ],
      "metadata": {
        "colab": {
          "base_uri": "https://localhost:8080/"
        },
        "id": "UeSWyUxbfCsY",
        "outputId": "f41a7f1f-7640-4c21-a218-db69af9e7572"
      },
      "execution_count": 34,
      "outputs": [
        {
          "output_type": "stream",
          "name": "stdout",
          "text": [
            "Tipe data awal jumlah kopi:<class 'str'>\n",
            "Tipe data awal jumlah roti:<class 'str'>\n"
          ]
        }
      ]
    },
    {
      "cell_type": "code",
      "source": [
        "jumlah_kopi = int(jumlah_kopi_str)\n",
        "jumlah_roti = int(jumlah_roti_str)"
      ],
      "metadata": {
        "id": "4Wf6WZwQzolE"
      },
      "execution_count": 35,
      "outputs": []
    },
    {
      "cell_type": "code",
      "source": [
        "print(f\"Tipe data setelah konversi: {type(jumlah_kopi)}\")\n",
        "print(f\"Tipe data setelah konversi: {type(jumlah_roti)}\")"
      ],
      "metadata": {
        "id": "NnJcw3t8lXtE",
        "colab": {
          "base_uri": "https://localhost:8080/"
        },
        "outputId": "b4f8a8f7-8f4b-4f91-a23c-bffbb0b8368b"
      },
      "execution_count": 36,
      "outputs": [
        {
          "output_type": "stream",
          "name": "stdout",
          "text": [
            "Tipe data setelah konversi: <class 'int'>\n",
            "Tipe data setelah konversi: <class 'int'>\n"
          ]
        }
      ]
    },
    {
      "cell_type": "markdown",
      "source": [
        "Tugas 3: Operasi pada Angka"
      ],
      "metadata": {
        "id": "dFHDlrD00tFr"
      }
    },
    {
      "cell_type": "code",
      "source": [
        "total_harga_kopi = jumlah_kopi * harga_produk_1\n",
        "total_harga_roti = jumlah_roti * harga_produk_2\n",
        "total_belanja_keseluruhan = total_harga_kopi + total_harga_roti\n",
        "uang_bayar = 50000\n",
        "kembalian = uang_bayar - total_belanja_keseluruhan"
      ],
      "metadata": {
        "id": "EUlwECz00zMJ"
      },
      "execution_count": 37,
      "outputs": []
    },
    {
      "cell_type": "code",
      "source": [
        "print(f\"Total Harga Kopi         : {total_harga_kopi}\")\n",
        "print(f\"Total Harga Roti         : {total_harga_roti}\")\n",
        "print(f\"Total Belanja Keseluruhan: {total_belanja_keseluruhan}\")\n",
        "print(f\"Uang yang dibayarkan     : {uang_bayar}\")\n",
        "print(f\"Kembalian                : {kembalian}\")"
      ],
      "metadata": {
        "colab": {
          "base_uri": "https://localhost:8080/"
        },
        "id": "y-lvFgJU18Go",
        "outputId": "e31ad99c-9f59-4d18-bf5b-945572e6ef29"
      },
      "execution_count": 38,
      "outputs": [
        {
          "output_type": "stream",
          "name": "stdout",
          "text": [
            "Total Harga Kopi         : 36001.0\n",
            "Total Harga Roti         : 30000\n",
            "Total Belanja Keseluruhan: 66001.0\n",
            "Uang yang dibayarkan     : 50000\n",
            "Kembalian                : -16001.0\n"
          ]
        }
      ]
    },
    {
      "cell_type": "markdown",
      "source": [
        "Tugas 4: Operasi pada String"
      ],
      "metadata": {
        "id": "Usyz_vd32aHF"
      }
    },
    {
      "cell_type": "code",
      "source": [
        "nama_pengguna = input(\"Masukkan Nama: \")\n",
        "pesan_terima_kasih= \"Terima kasih \" + nama_pengguna + \" telah berbelanja di Coffee Shop Bahagia!\"\n"
      ],
      "metadata": {
        "colab": {
          "base_uri": "https://localhost:8080/"
        },
        "id": "9YfQG7zD2fB0",
        "outputId": "78077ed7-230c-453d-9d4e-63a911fe23f2"
      },
      "execution_count": 42,
      "outputs": [
        {
          "name": "stdout",
          "output_type": "stream",
          "text": [
            "Masukkan Nama: Alex\n"
          ]
        }
      ]
    },
    {
      "cell_type": "code",
      "source": [
        "print('*'*40)\n",
        "print(pesan_terima_kasih)\n",
        "print('*'*40)\n",
        "print(f\"Total harga Kopi Pagi adalah {total_harga_kopi}\")"
      ],
      "metadata": {
        "colab": {
          "base_uri": "https://localhost:8080/"
        },
        "id": "x8EIXAPw3xEh",
        "outputId": "5b32d908-5337-47bc-9123-5706027c7ec2"
      },
      "execution_count": 43,
      "outputs": [
        {
          "output_type": "stream",
          "name": "stdout",
          "text": [
            "****************************************\n",
            "Terima kasih Alex telah berbelanja di Coffee Shop Bahagia!\n",
            "****************************************\n",
            "Total harga Kopi Pagi adalah 36001.0\n"
          ]
        }
      ]
    }
  ]
}