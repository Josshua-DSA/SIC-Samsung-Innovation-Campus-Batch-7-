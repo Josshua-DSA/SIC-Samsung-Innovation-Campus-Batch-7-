{
  "nbformat": 4,
  "nbformat_minor": 0,
  "metadata": {
    "colab": {
      "provenance": [],
      "authorship_tag": "ABX9TyP3HvyXpdZ0rhqdMj8I4yD8",
      "include_colab_link": true
    },
    "kernelspec": {
      "name": "python3",
      "display_name": "Python 3"
    },
    "language_info": {
      "name": "python"
    }
  },
  "cells": [
    {
      "cell_type": "markdown",
      "metadata": {
        "id": "view-in-github",
        "colab_type": "text"
      },
      "source": [
        "<a href=\"https://colab.research.google.com/github/Josshua-DSA/SIC-Samsung-Innovation-Campus-Batch-7-/blob/main/List_%26_Dict.ipynb\" target=\"_parent\"><img src=\"https://colab.research.google.com/assets/colab-badge.svg\" alt=\"Open In Colab\"/></a>"
      ]
    },
    {
      "cell_type": "code",
      "execution_count": 40,
      "metadata": {
        "id": "s3AqFuLlVP9j"
      },
      "outputs": [],
      "source": [
        "siswa = [\"Endo\",\"Nunez\",\"Salah\",\"Szobozlai\"]\n",
        "nilai = {\"Endo\" : 88,\n",
        "         \"Nunez\": 66,\n",
        "         \"Salah\": 77,\n",
        "         \"Szobozlai\": 17}"
      ]
    },
    {
      "cell_type": "code",
      "source": [
        "print(\"Siswa Pertama:\", siswa[0])\n",
        "print(\"Siswa Terakhir:\", siswa[-1])\n",
        "print(\"3 siswa terakhir:\", siswa[-3:])"
      ],
      "metadata": {
        "colab": {
          "base_uri": "https://localhost:8080/"
        },
        "id": "c_063ThMXsZc",
        "outputId": "79bd20e3-83c1-4fff-caac-92c2d6a597cd"
      },
      "execution_count": 41,
      "outputs": [
        {
          "output_type": "stream",
          "name": "stdout",
          "text": [
            "Siswa Pertama: Endo\n",
            "Siswa Terakhir: Szobozlai\n",
            "3 siswa terakhir: ['Nunez', 'Salah', 'Szobozlai']\n"
          ]
        }
      ]
    },
    {
      "cell_type": "code",
      "source": [
        "siswa.append(\"Ronaldo\")\n",
        "siswa.pop(0)\n",
        "print(\"Daftar siswa:\", siswa)"
      ],
      "metadata": {
        "colab": {
          "base_uri": "https://localhost:8080/"
        },
        "id": "M2jNO29lXAYe",
        "outputId": "1cc769da-a4ad-421c-ebb4-d04a2c08113e"
      },
      "execution_count": 42,
      "outputs": [
        {
          "output_type": "stream",
          "name": "stdout",
          "text": [
            "Daftar siswa: ['Nunez', 'Salah', 'Szobozlai', 'Ronaldo']\n"
          ]
        }
      ]
    },
    {
      "cell_type": "code",
      "source": [
        "for i, nama in enumerate(siswa):\n",
        "  print(f\"Index{i}: {nama}\")"
      ],
      "metadata": {
        "colab": {
          "base_uri": "https://localhost:8080/"
        },
        "id": "k5Objrq5Y2sW",
        "outputId": "aa539de9-4235-4c38-dffb-24a20c6143fd"
      },
      "execution_count": 43,
      "outputs": [
        {
          "output_type": "stream",
          "name": "stdout",
          "text": [
            "Index0: Nunez\n",
            "Index1: Salah\n",
            "Index2: Szobozlai\n",
            "Index3: Ronaldo\n"
          ]
        }
      ]
    },
    {
      "cell_type": "code",
      "source": [
        "nilai[\"Nunez\"] = 100\n",
        "print(nilai)"
      ],
      "metadata": {
        "id": "G5MUuZmfZ0e9",
        "colab": {
          "base_uri": "https://localhost:8080/"
        },
        "outputId": "ef5b24fd-a190-47e3-ad12-9bf50e8f690d"
      },
      "execution_count": 44,
      "outputs": [
        {
          "output_type": "stream",
          "name": "stdout",
          "text": [
            "{'Endo': 88, 'Nunez': 100, 'Salah': 77, 'Szobozlai': 17}\n"
          ]
        }
      ]
    },
    {
      "cell_type": "code",
      "source": [
        "nilai[\"Salah\"] = 99\n",
        "print(nilai)"
      ],
      "metadata": {
        "colab": {
          "base_uri": "https://localhost:8080/"
        },
        "id": "GgNP8olTq2CV",
        "outputId": "8ae33d2d-f177-41a5-9571-ffc34e983434"
      },
      "execution_count": 45,
      "outputs": [
        {
          "output_type": "stream",
          "name": "stdout",
          "text": [
            "{'Endo': 88, 'Nunez': 100, 'Salah': 99, 'Szobozlai': 17}\n"
          ]
        }
      ]
    },
    {
      "cell_type": "code",
      "source": [
        "nilai.pop(\"Salah\")\n",
        "print(nilai)"
      ],
      "metadata": {
        "colab": {
          "base_uri": "https://localhost:8080/"
        },
        "id": "aI55uI_nq_nK",
        "outputId": "43b082a2-4dd7-4364-a7ab-df813ce3e5fa"
      },
      "execution_count": 46,
      "outputs": [
        {
          "output_type": "stream",
          "name": "stdout",
          "text": [
            "{'Endo': 88, 'Nunez': 100, 'Szobozlai': 17}\n"
          ]
        }
      ]
    },
    {
      "cell_type": "code",
      "source": [
        "nilai[\"Gravenberch\"] = nilai.pop(\"Endo\")\n",
        "print(nilai)"
      ],
      "metadata": {
        "colab": {
          "base_uri": "https://localhost:8080/"
        },
        "id": "SSmXqm3EtbKv",
        "outputId": "936bc091-b9f9-493f-db56-904f8dfbcc6f"
      },
      "execution_count": 48,
      "outputs": [
        {
          "output_type": "stream",
          "name": "stdout",
          "text": [
            "{'Nunez': 100, 'Szobozlai': 17, 'Gravenberch': 88}\n"
          ]
        }
      ]
    }
  ]
}