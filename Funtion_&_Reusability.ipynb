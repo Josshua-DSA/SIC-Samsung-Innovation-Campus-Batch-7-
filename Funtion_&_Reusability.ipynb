{
  "nbformat": 4,
  "nbformat_minor": 0,
  "metadata": {
    "colab": {
      "provenance": [],
      "authorship_tag": "ABX9TyNZ4cu9SDX//u+pmOeLUZcC",
      "include_colab_link": true
    },
    "kernelspec": {
      "name": "python3",
      "display_name": "Python 3"
    },
    "language_info": {
      "name": "python"
    }
  },
  "cells": [
    {
      "cell_type": "markdown",
      "metadata": {
        "id": "view-in-github",
        "colab_type": "text"
      },
      "source": [
        "<a href=\"https://colab.research.google.com/github/Josshua-DSA/SIC-Samsung-Innovation-Campus-Batch-7-/blob/main/Funtion_%26_Reusability.ipynb\" target=\"_parent\"><img src=\"https://colab.research.google.com/assets/colab-badge.svg\" alt=\"Open In Colab\"/></a>"
      ]
    },
    {
      "cell_type": "code",
      "source": [
        "%%writefile konversi.py\n",
        "\n",
        "def konversi_suhu(temp,awal,akhir):\n",
        "  temp = float(temp)\n",
        "\n",
        "  #Pengubah Celcius\n",
        "  if awal == \"c\":\n",
        "    if akhir == \"c\":\n",
        "      print(f\"Hasil: {temp}°C\")\n",
        "    elif akhir == \"f\":\n",
        "      hasil_cf =temp * 9/5 + 32.0\n",
        "      print(f\"Hasil: {hasil_cf}°F\")\n",
        "    elif akhir == \"k\":\n",
        "      hasil_ck = temp + 273.15\n",
        "      print(f\"Hasil: {hasil_ck}°K\")\n",
        "      if hasil_ck < 0 :\n",
        "        print(\"Hasil TIDAK VALID\")\n",
        "\n",
        "  #Pengubah Fahrenheit\n",
        "  elif awal == \"f\":\n",
        "    if akhir == \"f\":\n",
        "      print(f\"Hasil: {temp}°F\")\n",
        "    elif akhir == \"c\":\n",
        "      hasil_fc = (temp - 32.0) * 5/9\n",
        "      print(f\"Hasil: {hasil_fc}°C\")\n",
        "    elif akhir == \"k\":\n",
        "      hasil_fk = (temp - 32) * 5/9 + 273.15\n",
        "      print(f\"Hasil: {hasil_fk}°K\")\n",
        "      if hasil_fk < 0 :\n",
        "        print(\"Hasil TIDAK VALID\")\n",
        "\n",
        "  #Pengubah Kelvin\n",
        "  elif awal == \"k\":\n",
        "    if akhir == \"k\":\n",
        "      print(f\"Hasil: {temp}°K\")\n",
        "    elif akhir == \"c\":\n",
        "      hasil_kc = temp - 273.15\n",
        "      print(f\"Hasil: {hasil_kc}°C\")\n",
        "    elif akhir == \"f\":\n",
        "      hasil_kf = (temp - 273.15) * 9/5 + 32.0\n",
        "      print(f\"Hasil: {hasil_kf}°F\")"
      ],
      "metadata": {
        "colab": {
          "base_uri": "https://localhost:8080/"
        },
        "id": "JKxkHKiKyfnW",
        "outputId": "8ca8467e-1258-4bce-af20-f1bd468fccc4"
      },
      "execution_count": 1,
      "outputs": [
        {
          "output_type": "stream",
          "name": "stdout",
          "text": [
            "Writing konversi.py\n"
          ]
        }
      ]
    },
    {
      "cell_type": "code",
      "source": [
        "from konversi import konversi_suhu\n",
        "print(\"=== KONVERSI SUHU ===\")\n",
        "temp = input(\"Masukkan Nilai suhu:\")\n",
        "awal = input(\"Dari satuan (C/F/K):\").lower()\n",
        "if awal not in [\"c\", \"f\", \"k\"]:\n",
        "    print(\"Input salah untuk satuan awal!\")\n",
        "akhir= input(\"Menuju ke satuan(C/F/K):\").lower()\n",
        "if akhir not in [\"c\", \"f\", \"k\"]:\n",
        "    print(\"Input salah untuk satuan awal!\")\n",
        "konversi_suhu(temp,awal,akhir)"
      ],
      "metadata": {
        "colab": {
          "base_uri": "https://localhost:8080/"
        },
        "id": "fEhPjqzJbK_6",
        "outputId": "b6bd2667-ab3e-4fbe-b624-767b1d6392d5"
      },
      "execution_count": 2,
      "outputs": [
        {
          "output_type": "stream",
          "name": "stdout",
          "text": [
            "=== KONVERSI SUHU ===\n",
            "Masukkan Nilai suhu:33\n",
            "Dari satuan (C/F/K):c\n",
            "Menuju ke satuan(C/F/K):f\n",
            "Hasil: 91.4°F\n"
          ]
        }
      ]
    }
  ]
}