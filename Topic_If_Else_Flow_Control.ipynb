{
  "nbformat": 4,
  "nbformat_minor": 0,
  "metadata": {
    "colab": {
      "provenance": [],
      "authorship_tag": "ABX9TyOGspwWdHixEfSDRQgeD5mE",
      "include_colab_link": true
    },
    "kernelspec": {
      "name": "python3",
      "display_name": "Python 3"
    },
    "language_info": {
      "name": "python"
    }
  },
  "cells": [
    {
      "cell_type": "markdown",
      "metadata": {
        "id": "view-in-github",
        "colab_type": "text"
      },
      "source": [
        "<a href=\"https://colab.research.google.com/github/Josshua-DSA/SIC-Samsung-Innovation-Campus-Batch-7-/blob/main/Topic_If_Else_Flow_Control.ipynb\" target=\"_parent\"><img src=\"https://colab.research.google.com/assets/colab-badge.svg\" alt=\"Open In Colab\"/></a>"
      ]
    },
    {
      "cell_type": "markdown",
      "source": [
        "# Membuat Kategori BMI"
      ],
      "metadata": {
        "id": "eNWdWgxcQmSL"
      }
    },
    {
      "cell_type": "code",
      "source": [
        "bb = input(\"masukkan berat badan anda(kg): \")\n",
        "tb = input(\"masukkan tinggi badan anda(m): \")\n",
        "tb = tb.replace(\",\",\".\")\n",
        "bmi = float(bb) / (float(tb) * (float(tb)) )"
      ],
      "metadata": {
        "colab": {
          "base_uri": "https://localhost:8080/"
        },
        "id": "UYPWKONwQxp1",
        "outputId": "6675726d-87c7-4102-b1b6-7f718a44fa45"
      },
      "execution_count": null,
      "outputs": [
        {
          "name": "stdout",
          "output_type": "stream",
          "text": [
            "masukkan berat badan anda(kg): 66\n",
            "masukkan tinggi badan anda(m): 1,7\n"
          ]
        }
      ]
    },
    {
      "cell_type": "markdown",
      "source": [
        "Kondisi menurut BMI"
      ],
      "metadata": {
        "id": "ETyAQG_dk2ou"
      }
    },
    {
      "cell_type": "code",
      "source": [
        "if 25.0 <= bmi <= 27.0:\n",
        "  print(\"Anda kelebihan berat badan(gemuk)\")\n",
        "  if bmi > 27.0:\n",
        "    print(\"Anda memasuki kadar Obesitas\")\n",
        "elif 17 <= bmi <= 18.5:\n",
        "  print(\"Anda kekurangan berat badan(kurus)\")\n",
        "  if bmi < 17 :\n",
        "    print(\"Anda memasuki kadar Kurus\")\n",
        "else:\n",
        "  print(\"Anda normal\")"
      ],
      "metadata": {
        "id": "kXchrWgqRDmF",
        "colab": {
          "base_uri": "https://localhost:8080/"
        },
        "outputId": "2ec6f6ea-1164-4923-af4b-ce286723345f"
      },
      "execution_count": null,
      "outputs": [
        {
          "output_type": "stream",
          "name": "stdout",
          "text": [
            "Anda normal\n"
          ]
        }
      ]
    }
  ]
}